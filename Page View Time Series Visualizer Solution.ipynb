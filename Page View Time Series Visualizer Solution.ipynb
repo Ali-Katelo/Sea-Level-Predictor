{
  "metadata": {
    "kernelspec": {
      "name": "python",
      "display_name": "Python (Pyodide)",
      "language": "python"
    },
    "language_info": {
      "codemirror_mode": {
        "name": "python",
        "version": 3
      },
      "file_extension": ".py",
      "mimetype": "text/x-python",
      "name": "python",
      "nbconvert_exporter": "python",
      "pygments_lexer": "ipython3",
      "version": "3.8"
    }
  },
  "nbformat_minor": 4,
  "nbformat": 4,
  "cells": [
    {
      "cell_type": "code",
      "source": "%pip install seaborn",
      "metadata": {
        "trusted": true
      },
      "outputs": [],
      "execution_count": 2
    },
    {
      "cell_type": "code",
      "source": "import pandas as pd\nimport matplotlib.pyplot as plt\nimport seaborn as sns\n\ndef draw_line_plot():\n    # Read data\n    df = pd.read_csv('fcc-forum-pageviews.csv', index_col='date')\n    df.index = pd.to_datetime(df.index)\n\n    # Clean data\n    df = df[(df['value'] >= df['value'].quantile(0.025)) & (df['value'] <= df['value'].quantile(0.975))]\n\n    # Create line plot\n    fig, ax = plt.subplots(figsize=(16, 6))\n    ax.plot(df.index, df['value'])\n    ax.set_title('Daily freeCodeCamp Forum Page Views 5/2016-12/2019')\n    ax.set_xlabel('Date')\n    ax.set_ylabel('Page Views')\n\n    # Save image and return fig\n    fig.savefig('line_plot.png')\n    return fig\n\ndef draw_bar_plot():\n    # Copy and prepare data\n    df = pd.read_csv('fcc-forum-pageviews.csv', index_col='date')\n    df.index = pd.to_datetime(df.index)\n    df = df[(df['value'] >= df['value'].quantile(0.025)) & (df['value'] <= df['value'].quantile(0.975))]\n    df_bar = df.groupby([df.index.year, df.index.month]).mean().unstack()\n\n    # Draw bar plot\n    fig, ax = plt.subplots(figsize=(16, 6))\n    df_bar.plot(kind='bar', ax=ax)\n    ax.set_title('Average Page Views per Month')\n    ax.set_xlabel('Years')\n    ax.set_ylabel('Average Page Views')\n    ax.legend(title='Months')\n\n    # Save image and return fig\n    fig.savefig('bar_plot.png')\n    return fig\n\ndef draw_box_plot():\n    # Prepare data\n    df = pd.read_csv('fcc-forum-pageviews.csv', index_col='date')\n    df.index = pd.to_datetime(df.index)\n    df = df[(df['value'] >= df['value'].quantile(0.025)) & (df['value'] <= df['value'].quantile(0.975))]\n    df_box = df.copy()\n    df_box.reset_index(inplace=True)\n    df_box['year'] = [d.year for d in df_box.date]\n    df_box['month'] = [d.month for d in df_box.date]\n\n    # Draw box plots (using Seaborn)\n    fig, axes = plt.subplots(1, 2, figsize=(16, 6))\n\n    # Year-wise box plot\n    sns.boxplot(x='year', y='value', data=df_box, ax=axes[0])\n    axes[0].set_title('Year-wise Box Plot (Trend)')\n    axes[0].set_xlabel('Year')\n    axes[0].set_ylabel('Page Views')\n\n    # Month-wise box plot\n    sns.boxplot(x='month', y='value', data=df_box, ax=axes[1])\n    axes[1].set_title('Month-wise Box Plot (Seasonality)')\n    axes[1].set_xlabel('Month')\n    axes[1].set_ylabel('Page Views')\n\n    # Save image and return fig\n    fig.savefig('box_plot.png')\n    return fig\n\n",
      "metadata": {
        "trusted": true
      },
      "outputs": [],
      "execution_count": 3
    },
    {
      "cell_type": "code",
      "source": "import pandas as pd\nimport matplotlib.pyplot as plt\n\ndef draw_line_plot():\n    # Import data\n    df = pd.read_csv('fcc-forum-pageviews.csv', index_col='date', parse_dates=True)\n\n    # Clean data\n    df = df[\n        (df['value'] >= df['value'].quantile(0.025))\n        & (df['value'] <= df['value'].quantile(0.975))\n    ]\n\n    # Create line plot\n    fig, ax = plt.subplots(figsize=(16, 6))\n    ax.plot(df.index, df['value'], color='red')\n\n    # Set labels and title\n    ax.set_xlabel('Date')\n    ax.set_ylabel('Page Views')\n    ax.set_title('Daily freeCodeCamp Forum Page Views 5/2016-12/2019')\n\n    # Set x-axis ticks\n    ax.xaxis.set_major_locator(plt.MaxNLocator(12))\n    ax.xaxis.set_minor_locator(plt.MaxNLocator(24))\n\n    # Save plot\n    fig.savefig('line_plot.png')\n    return fig\n\n",
      "metadata": {
        "trusted": true
      },
      "outputs": [],
      "execution_count": 4
    }
  ]
}